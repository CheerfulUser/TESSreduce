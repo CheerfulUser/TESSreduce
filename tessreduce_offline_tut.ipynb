{
 "cells": [
  {
   "cell_type": "code",
   "execution_count": 5,
   "metadata": {},
   "outputs": [],
   "source": [
    "import tessreduce as tr"
   ]
  },
  {
   "cell_type": "markdown",
   "metadata": {},
   "source": [
    "## TESSreduce in offline mode\n",
    "\n",
    "There may be cases where we want to run TESSreduce in an 'offline' mode, such as when running processes on a supercomputer node that does not have direct access to the internet. In its default mode, TESSreduce connects to the internet in three ways: downloading the TPFs from ________, retrieving source catalogues from ______, and generating TESS Pixel Response Functions from ______. \n",
    "\n",
    "In offline mode these three steps must be performed outside the actual reduction procedure. TPFs must be downloaded locally, which can done using the `external_save_TESS()` function. This only requires a coordinate and a TESS sector as input, as well as the path to the save location for the TPF. THe size of the cutout will default to 90 x 90 pixels."
   ]
  },
  {
   "cell_type": "code",
   "execution_count": 2,
   "metadata": {},
   "outputs": [],
   "source": [
    "ra = 348.786\n",
    "dec = -45.328\n",
    "sector = 1\n",
    "save_path = '/path/to/save/location'\n",
    "save_path = '/Users/hughroxburgh/Desktop'\n",
    "\n",
    "tr.external_save_TESS(ra=ra,dec=dec,sector=sector,save_path=save_path,size=90)"
   ]
  },
  {
   "cell_type": "markdown",
   "metadata": {},
   "source": [
    "Next, the source catalogues can be generated using the `external_save_cat()` function. This requires the RA and Dec, the cutout size, the path to the saved TPF, and the path to where the source catalogue should be saved. The limiting magnitude of the sources will default to 19."
   ]
  },
  {
   "cell_type": "code",
   "execution_count": 6,
   "metadata": {},
   "outputs": [],
   "source": [
    "image_path = '/path/to/local/TPF'\n",
    "image_path = '/Users/hughroxburgh/Desktop/tess-s0001-2-3_348.786000_-45.328000_90x90_astrocut.fits'\n",
    "\n",
    "save_path = '/path/to/save'\n",
    "save_path = '/Users/hughroxburgh/Desktop'\n",
    "\n",
    "tr.external_save_cat(tpf=image_path,save_path=save_path,maglim=19)"
   ]
  },
  {
   "cell_type": "markdown",
   "metadata": {},
   "source": [
    "Finally, the TESS PRF files will need to be downloaded locally. They are found at https://archive.stsci.edu/missions/tess/models/prf_fitsfiles/. "
   ]
  },
  {
   "cell_type": "markdown",
   "metadata": {},
   "source": [
    "Once this is all complete, we now can start our reduction. Rather than providing an RA, Dec, and Sector, all we need to do is pass a value for `tpf`, `catalogue_path`, and `prf_path` into the initialisation."
   ]
  },
  {
   "cell_type": "code",
   "execution_count": null,
   "metadata": {},
   "outputs": [],
   "source": [
    "local_tess_file = '/path/to/local/TPF'\n",
    "local_source_catalogue = '/path/to/local/source_catalogue'\n",
    "local_prf_files = '/path/to/local/PRFs'\n",
    "\n",
    "tess = tr.tessreduce(tpf=local_tess_file,catalogue_path=local_source_catalogue,prf_path=local_prf_files)"
   ]
  },
  {
   "cell_type": "code",
   "execution_count": null,
   "metadata": {},
   "outputs": [],
   "source": []
  }
 ],
 "metadata": {
  "kernelspec": {
   "display_name": "Python 3 (ipykernel)",
   "language": "python",
   "name": "python3"
  },
  "language_info": {
   "codemirror_mode": {
    "name": "ipython",
    "version": 3
   },
   "file_extension": ".py",
   "mimetype": "text/x-python",
   "name": "python",
   "nbconvert_exporter": "python",
   "pygments_lexer": "ipython3",
   "version": "3.1.undefined"
  }
 },
 "nbformat": 4,
 "nbformat_minor": 2
}
