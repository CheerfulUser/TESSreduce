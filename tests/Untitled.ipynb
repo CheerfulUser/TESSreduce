{
 "cells": [
  {
   "cell_type": "code",
   "execution_count": 6,
   "id": "265a32f7",
   "metadata": {},
   "outputs": [
    {
     "name": "stderr",
     "output_type": "stream",
     "text": [
      "E\n",
      "======================================================================\n",
      "ERROR: /Users/rridden/Library/Jupyter/runtime/kernel-46b6a53b-b7b2-4b33-99a0-071493fbfebb (unittest.loader._FailedTest)\n",
      "----------------------------------------------------------------------\n",
      "AttributeError: module '__main__' has no attribute '/Users/rridden/Library/Jupyter/runtime/kernel-46b6a53b-b7b2-4b33-99a0-071493fbfebb'\n",
      "\n",
      "----------------------------------------------------------------------\n",
      "Ran 1 test in 0.001s\n",
      "\n",
      "FAILED (errors=1)\n"
     ]
    },
    {
     "ename": "SystemExit",
     "evalue": "True",
     "output_type": "error",
     "traceback": [
      "An exception has occurred, use %tb to see the full traceback.\n",
      "\u001b[0;31mSystemExit\u001b[0m\u001b[0;31m:\u001b[0m True\n"
     ]
    }
   ],
   "source": [
    "import unittest\n",
    "import tessreduce as tr\n",
    "\n",
    "class TestTESSreduce(unittest.TestCase):\n",
    "\n",
    "    @classmethod\n",
    "    def setUpClass(cls):\n",
    "        \"\"\" Initial setup run only once before all the tests\n",
    "        \"\"\"\n",
    "        print('thing')\n",
    "        ra = 189.1385817\n",
    "        dec = 11.2316535\n",
    "        tess = tr.tessreduce(ra=ra, dec=dec)\n",
    "        tess.get_ref()\n",
    "        cls.tess = tess\n",
    "        \n",
    "    def test_Make_mask(self):\n",
    "        self.tess.Make_mask()\n",
    "\n",
    "    def test_background(self):\n",
    "        self.tess.background()\n",
    "\n",
    "    def test_Centroids_DAO(self):\n",
    "        self.tess.Centroids_DAO()\n",
    "\n",
    "    def test_Shift_images(self):\n",
    "        self.tess.Shift_images()\n",
    "\n",
    "    def test_field_calibrate(self):\n",
    "        self.tess.field_calibrate()\n",
    "\n",
    "    def test_Diff_lc(self):\n",
    "        self.tess.Diff_lc()\n",
    "\n",
    "        \n",
    "if __name__ == '__main__':\n",
    "    unittest.main()"
   ]
  },
  {
   "cell_type": "code",
   "execution_count": 5,
   "id": "3dd46849",
   "metadata": {},
   "outputs": [
    {
     "name": "stderr",
     "output_type": "stream",
     "text": [
      "UsageError: Line magic function `%tbb` not found.\n"
     ]
    }
   ],
   "source": [
    "%tb"
   ]
  },
  {
   "cell_type": "code",
   "execution_count": 9,
   "id": "5bd1f59e",
   "metadata": {},
   "outputs": [
    {
     "name": "stderr",
     "output_type": "stream",
     "text": [
      "E\n",
      "======================================================================\n",
      "ERROR: /Users/rridden/Library/Jupyter/runtime/kernel-46b6a53b-b7b2-4b33-99a0-071493fbfebb (unittest.loader._FailedTest)\n",
      "----------------------------------------------------------------------\n",
      "AttributeError: module '__main__' has no attribute '/Users/rridden/Library/Jupyter/runtime/kernel-46b6a53b-b7b2-4b33-99a0-071493fbfebb'\n",
      "\n",
      "----------------------------------------------------------------------\n",
      "Ran 1 test in 0.001s\n",
      "\n",
      "FAILED (errors=1)\n"
     ]
    },
    {
     "ename": "SystemExit",
     "evalue": "True",
     "output_type": "error",
     "traceback": [
      "An exception has occurred, use %tb to see the full traceback.\n",
      "\u001b[0;31mSystemExit\u001b[0m\u001b[0;31m:\u001b[0m True\n"
     ]
    }
   ],
   "source": [
    "class Example(unittest.TestCase):\n",
    "    @classmethod\n",
    "    def setUpClass(cls):\n",
    "        print(\"setUpClass\")\n",
    "\n",
    "    def setUp(self):\n",
    "        print(\"setUp\")\n",
    "\n",
    "    def test1(self):\n",
    "        print(\"test1\")\n",
    "\n",
    "    def test2(self):\n",
    "        print(\"test2\")\n",
    "\n",
    "    def tearDown(self):\n",
    "        print(\"tearDown\")\n",
    "\n",
    "    @classmethod\n",
    "    def tearDownClass(cls):\n",
    "        print(\"tearDownClass\")\n"
   ]
  },
  {
   "cell_type": "code",
   "execution_count": 8,
   "id": "191adb84",
   "metadata": {},
   "outputs": [
    {
     "data": {
      "text/plain": [
       "<__main__.Example testMethod=runTest>"
      ]
     },
     "execution_count": 8,
     "metadata": {},
     "output_type": "execute_result"
    }
   ],
   "source": [
    "Example()"
   ]
  },
  {
   "cell_type": "code",
   "execution_count": null,
   "id": "754b33e9",
   "metadata": {},
   "outputs": [],
   "source": []
  }
 ],
 "metadata": {
  "kernelspec": {
   "display_name": "Python 3",
   "language": "python",
   "name": "python3"
  },
  "language_info": {
   "codemirror_mode": {
    "name": "ipython",
    "version": 3
   },
   "file_extension": ".py",
   "mimetype": "text/x-python",
   "name": "python",
   "nbconvert_exporter": "python",
   "pygments_lexer": "ipython3",
   "version": "3.7.7"
  }
 },
 "nbformat": 4,
 "nbformat_minor": 5
}
